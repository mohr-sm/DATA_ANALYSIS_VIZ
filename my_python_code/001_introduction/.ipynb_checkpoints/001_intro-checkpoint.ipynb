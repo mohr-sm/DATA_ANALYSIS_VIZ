{
 "cells": [
  {
   "cell_type": "markdown",
   "metadata": {},
   "source": [
    "# 01. Introduction to Python\n",
    "## Basic and not so basic comands...\n",
    "\n",
    "I will use this first notebook to summarize the main things you need to know to start working in python if you want to do some data analysis, data visualization or numerical modelling. Let's rock..."
   ]
  },
  {
   "cell_type": "markdown",
   "metadata": {},
   "source": [
    "### Just for fun... Hello World!"
   ]
  },
  {
   "cell_type": "code",
   "execution_count": 12,
   "metadata": {},
   "outputs": [
    {
     "name": "stdout",
     "output_type": "stream",
     "text": [
      "Hello World\n",
      "Good bye, moonman ;-)\n"
     ]
    }
   ],
   "source": [
    "## Yes, I know... you might think it is a waste of time... but it is a classic!\n",
    "print (\"Hello World\")\n",
    "print (\"Good bye,\" + \" moonman ;-)\")"
   ]
  },
  {
   "cell_type": "markdown",
   "metadata": {},
   "source": [
    "### Data types"
   ]
  },
  {
   "cell_type": "code",
   "execution_count": 13,
   "metadata": {},
   "outputs": [
    {
     "name": "stdout",
     "output_type": "stream",
     "text": [
      "True\n",
      "5.0\n",
      "5.0\n",
      "3\n"
     ]
    },
    {
     "data": {
      "text/plain": [
       "float"
      ]
     },
     "execution_count": 13,
     "metadata": {},
     "output_type": "execute_result"
    }
   ],
   "source": [
    "my_integer = 5              # integer number\n",
    "my_float   = 5.0            # real number\n",
    "my_string  = \"5.0\"          # string   \n",
    "my_boolean = True and False # boolean variable\n",
    "my_none = None              # NoneType\n",
    "\n",
    "# check if a variable is of certain type\n",
    "print(isinstance(5,(int,float))) # True\n",
    "\n",
    "# convert a varible of a type into a different one\n",
    "print(float(5))   # 5.0\n",
    "print(float('5')) # 5.0 \n",
    "print(int(3.4))   # 3 \n",
    "#int('3.5')\n",
    "str(3.4)          # '3.4'\n",
    "\n",
    "# get the type of a variable\n",
    "type(3.4)"
   ]
  },
  {
   "cell_type": "code",
   "execution_count": 14,
   "metadata": {},
   "outputs": [],
   "source": [
    "# boolean types\n"
   ]
  },
  {
   "cell_type": "markdown",
   "metadata": {},
   "source": [
    "### Basic Mathematical Operations"
   ]
  },
  {
   "cell_type": "code",
   "execution_count": null,
   "metadata": {},
   "outputs": [],
   "source": []
  }
 ],
 "metadata": {
  "kernelspec": {
   "display_name": "Python 3",
   "language": "python",
   "name": "python3"
  },
  "language_info": {
   "codemirror_mode": {
    "name": "ipython",
    "version": 3
   },
   "file_extension": ".py",
   "mimetype": "text/x-python",
   "name": "python",
   "nbconvert_exporter": "python",
   "pygments_lexer": "ipython3",
   "version": "3.5.2"
  }
 },
 "nbformat": 4,
 "nbformat_minor": 2
}
